{
 "cells": [
  {
   "cell_type": "markdown",
   "metadata": {},
   "source": [
    "# Introduction"
   ]
  },
  {
   "cell_type": "markdown",
   "metadata": {},
   "source": [
    "The goal is to solve **binary classification** problem with **unbalanced data**. Given dataset containing current and past loans granted by the company, we want to **predict the loan status (1 or 0)** where frequency of 0s is greater than frequency of 1s."
   ]
  },
  {
   "cell_type": "markdown",
   "metadata": {},
   "source": [
    "# Prerequisites and requirements"
   ]
  },
  {
   "cell_type": "markdown",
   "metadata": {},
   "source": [
    "* Python 3.7\n",
    "* Jupyter\n",
    "* scikit-learn\n",
    "* Matplotlib\n",
    "* Seaborn\n",
    "* NumPy\n",
    "* Pandas"
   ]
  },
  {
   "cell_type": "code",
   "execution_count": 1,
   "metadata": {},
   "outputs": [],
   "source": [
    "from datetime import datetime\n",
    "from datetime import timedelta\n",
    "import warnings\n",
    "warnings.filterwarnings('ignore')"
   ]
  },
  {
   "cell_type": "code",
   "execution_count": 2,
   "metadata": {},
   "outputs": [],
   "source": [
    "from IPython.display import display\n",
    "from matplotlib import pyplot as plt\n",
    "import numpy as np\n",
    "import pandas as pd\n",
    "pd.set_option('display.max_rows', 10)\n",
    "import seaborn as sns\n",
    "from sklearn.ensemble import ExtraTreesClassifier\n",
    "from sklearn.ensemble import IsolationForest\n",
    "from sklearn.ensemble import RandomForestClassifier\n",
    "from sklearn.experimental import enable_iterative_imputer\n",
    "from sklearn.feature_selection import SelectFromModel\n",
    "from sklearn.impute import IterativeImputer\n",
    "from sklearn.linear_model import LogisticRegression\n",
    "from sklearn.model_selection import train_test_split\n",
    "from sklearn.metrics import accuracy_score\n",
    "from sklearn.metrics import f1_score\n",
    "from sklearn.metrics import precision_score\n",
    "from sklearn.metrics import recall_score\n",
    "from sklearn.naive_bayes import GaussianNB\n",
    "from sklearn.preprocessing import LabelEncoder\n",
    "from sklearn.svm import LinearSVC\n",
    "from sklearn.preprocessing import StandardScaler"
   ]
  },
  {
   "cell_type": "markdown",
   "metadata": {},
   "source": [
    "# Preparing data"
   ]
  },
  {
   "cell_type": "markdown",
   "metadata": {},
   "source": [
    "At first I will load the data and sample **80 000 rows** (because I lack computing power on my laptop)."
   ]
  },
  {
   "cell_type": "code",
   "execution_count": 3,
   "metadata": {},
   "outputs": [],
   "source": [
    "df = pd.read_csv('loan.csv').sample(80000, random_state=42)"
   ]
  },
  {
   "cell_type": "code",
   "execution_count": 4,
   "metadata": {},
   "outputs": [
    {
     "data": {
      "text/plain": [
       "(80000, 14)"
      ]
     },
     "execution_count": 4,
     "metadata": {},
     "output_type": "execute_result"
    }
   ],
   "source": [
    "df.shape"
   ]
  },
  {
   "cell_type": "markdown",
   "metadata": {},
   "source": [
    "There are **14 columns** in our dataframe. Let's now look at some examples from our dataset."
   ]
  },
  {
   "cell_type": "code",
   "execution_count": 5,
   "metadata": {},
   "outputs": [
    {
     "data": {
      "text/html": [
       "<div>\n",
       "<style scoped>\n",
       "    .dataframe tbody tr th:only-of-type {\n",
       "        vertical-align: middle;\n",
       "    }\n",
       "\n",
       "    .dataframe tbody tr th {\n",
       "        vertical-align: top;\n",
       "    }\n",
       "\n",
       "    .dataframe thead th {\n",
       "        text-align: right;\n",
       "    }\n",
       "</style>\n",
       "<table border=\"1\" class=\"dataframe\">\n",
       "  <thead>\n",
       "    <tr style=\"text-align: right;\">\n",
       "      <th></th>\n",
       "      <th>term</th>\n",
       "      <th>int_rate</th>\n",
       "      <th>installment</th>\n",
       "      <th>grade</th>\n",
       "      <th>sub_grade</th>\n",
       "      <th>home_ownership</th>\n",
       "      <th>annual_inc</th>\n",
       "      <th>issue_d</th>\n",
       "      <th>loan_status</th>\n",
       "      <th>dti</th>\n",
       "      <th>earliest_cr_line</th>\n",
       "      <th>recoveries</th>\n",
       "      <th>last_pymnt_d</th>\n",
       "      <th>application_type</th>\n",
       "    </tr>\n",
       "  </thead>\n",
       "  <tbody>\n",
       "    <tr>\n",
       "      <td>1758049</td>\n",
       "      <td>36 months</td>\n",
       "      <td>12.12</td>\n",
       "      <td>1164.51</td>\n",
       "      <td>B</td>\n",
       "      <td>B3</td>\n",
       "      <td>RENT</td>\n",
       "      <td>90000.0</td>\n",
       "      <td>Jun-2013</td>\n",
       "      <td>Fully Paid</td>\n",
       "      <td>3.51</td>\n",
       "      <td>Nov-1997</td>\n",
       "      <td>0.0</td>\n",
       "      <td>Dec-2013</td>\n",
       "      <td>Individual</td>\n",
       "    </tr>\n",
       "    <tr>\n",
       "      <td>686533</td>\n",
       "      <td>60 months</td>\n",
       "      <td>10.75</td>\n",
       "      <td>648.54</td>\n",
       "      <td>B</td>\n",
       "      <td>B4</td>\n",
       "      <td>RENT</td>\n",
       "      <td>100000.0</td>\n",
       "      <td>Apr-2016</td>\n",
       "      <td>Current</td>\n",
       "      <td>22.85</td>\n",
       "      <td>Jun-2011</td>\n",
       "      <td>0.0</td>\n",
       "      <td>Feb-2019</td>\n",
       "      <td>Individual</td>\n",
       "    </tr>\n",
       "    <tr>\n",
       "      <td>900721</td>\n",
       "      <td>36 months</td>\n",
       "      <td>7.49</td>\n",
       "      <td>466.53</td>\n",
       "      <td>A</td>\n",
       "      <td>A4</td>\n",
       "      <td>OWN</td>\n",
       "      <td>100000.0</td>\n",
       "      <td>Oct-2016</td>\n",
       "      <td>Fully Paid</td>\n",
       "      <td>6.71</td>\n",
       "      <td>Apr-1996</td>\n",
       "      <td>0.0</td>\n",
       "      <td>Nov-2017</td>\n",
       "      <td>Individual</td>\n",
       "    </tr>\n",
       "    <tr>\n",
       "      <td>1727912</td>\n",
       "      <td>60 months</td>\n",
       "      <td>21.15</td>\n",
       "      <td>651.31</td>\n",
       "      <td>E</td>\n",
       "      <td>E2</td>\n",
       "      <td>RENT</td>\n",
       "      <td>58000.0</td>\n",
       "      <td>Sep-2013</td>\n",
       "      <td>Fully Paid</td>\n",
       "      <td>15.50</td>\n",
       "      <td>Aug-1998</td>\n",
       "      <td>0.0</td>\n",
       "      <td>Sep-2018</td>\n",
       "      <td>Individual</td>\n",
       "    </tr>\n",
       "    <tr>\n",
       "      <td>539691</td>\n",
       "      <td>36 months</td>\n",
       "      <td>8.59</td>\n",
       "      <td>455.18</td>\n",
       "      <td>A</td>\n",
       "      <td>A5</td>\n",
       "      <td>MORTGAGE</td>\n",
       "      <td>90000.0</td>\n",
       "      <td>Aug-2016</td>\n",
       "      <td>Current</td>\n",
       "      <td>19.88</td>\n",
       "      <td>Dec-2003</td>\n",
       "      <td>0.0</td>\n",
       "      <td>Feb-2019</td>\n",
       "      <td>Individual</td>\n",
       "    </tr>\n",
       "  </tbody>\n",
       "</table>\n",
       "</div>"
      ],
      "text/plain": [
       "               term  int_rate  installment grade sub_grade home_ownership  \\\n",
       "1758049   36 months     12.12      1164.51     B        B3           RENT   \n",
       "686533    60 months     10.75       648.54     B        B4           RENT   \n",
       "900721    36 months      7.49       466.53     A        A4            OWN   \n",
       "1727912   60 months     21.15       651.31     E        E2           RENT   \n",
       "539691    36 months      8.59       455.18     A        A5       MORTGAGE   \n",
       "\n",
       "         annual_inc   issue_d loan_status    dti earliest_cr_line  recoveries  \\\n",
       "1758049     90000.0  Jun-2013  Fully Paid   3.51         Nov-1997         0.0   \n",
       "686533     100000.0  Apr-2016     Current  22.85         Jun-2011         0.0   \n",
       "900721     100000.0  Oct-2016  Fully Paid   6.71         Apr-1996         0.0   \n",
       "1727912     58000.0  Sep-2013  Fully Paid  15.50         Aug-1998         0.0   \n",
       "539691      90000.0  Aug-2016     Current  19.88         Dec-2003         0.0   \n",
       "\n",
       "        last_pymnt_d application_type  \n",
       "1758049     Dec-2013       Individual  \n",
       "686533      Feb-2019       Individual  \n",
       "900721      Nov-2017       Individual  \n",
       "1727912     Sep-2018       Individual  \n",
       "539691      Feb-2019       Individual  "
      ]
     },
     "execution_count": 5,
     "metadata": {},
     "output_type": "execute_result"
    }
   ],
   "source": [
    "df.head()"
   ]
  },
  {
   "cell_type": "markdown",
   "metadata": {},
   "source": [
    "At a glance, **both categorical and non-categorical data are available**. Let's now check for more details about the data."
   ]
  },
  {
   "cell_type": "code",
   "execution_count": 6,
   "metadata": {},
   "outputs": [
    {
     "name": "stdout",
     "output_type": "stream",
     "text": [
      "<class 'pandas.core.frame.DataFrame'>\n",
      "Int64Index: 80000 entries, 1758049 to 2145511\n",
      "Data columns (total 14 columns):\n",
      "term                80000 non-null object\n",
      "int_rate            80000 non-null float64\n",
      "installment         80000 non-null float64\n",
      "grade               80000 non-null object\n",
      "sub_grade           80000 non-null object\n",
      "home_ownership      80000 non-null object\n",
      "annual_inc          80000 non-null float64\n",
      "issue_d             80000 non-null object\n",
      "loan_status         80000 non-null object\n",
      "dti                 79944 non-null float64\n",
      "earliest_cr_line    79998 non-null object\n",
      "recoveries          80000 non-null float64\n",
      "last_pymnt_d        79906 non-null object\n",
      "application_type    80000 non-null object\n",
      "dtypes: float64(5), object(9)\n",
      "memory usage: 9.2+ MB\n"
     ]
    }
   ],
   "source": [
    "df.info()"
   ]
  },
  {
   "cell_type": "markdown",
   "metadata": {},
   "source": [
    "As we see, **some data points have missing values**. We will need to deal with NaN values further, at the preprocessing step."
   ]
  },
  {
   "cell_type": "markdown",
   "metadata": {},
   "source": [
    "# Preprocessing"
   ]
  },
  {
   "cell_type": "markdown",
   "metadata": {},
   "source": [
    "At first I will analyze and preprocess **labels**. Then, I will do the same with both **categorical** and **non-categorical features**."
   ]
  },
  {
   "cell_type": "markdown",
   "metadata": {},
   "source": [
    "## Labels"
   ]
  },
  {
   "cell_type": "markdown",
   "metadata": {},
   "source": [
    "Our label is column ***loan_status***. As shown above, it's values are categorical, therefore I will display ratios of it's unique values."
   ]
  },
  {
   "cell_type": "code",
   "execution_count": 7,
   "metadata": {},
   "outputs": [],
   "source": [
    "def plot_ratio(df, name):\n",
    "    display(df[name].value_counts(normalize=True).to_frame().reset_index().rename(columns={'index': name, name: 'ratio'}))\n",
    "    sns.countplot(x=name, data=df)"
   ]
  },
  {
   "cell_type": "code",
   "execution_count": 8,
   "metadata": {},
   "outputs": [
    {
     "data": {
      "text/html": [
       "<div>\n",
       "<style scoped>\n",
       "    .dataframe tbody tr th:only-of-type {\n",
       "        vertical-align: middle;\n",
       "    }\n",
       "\n",
       "    .dataframe tbody tr th {\n",
       "        vertical-align: top;\n",
       "    }\n",
       "\n",
       "    .dataframe thead th {\n",
       "        text-align: right;\n",
       "    }\n",
       "</style>\n",
       "<table border=\"1\" class=\"dataframe\">\n",
       "  <thead>\n",
       "    <tr style=\"text-align: right;\">\n",
       "      <th></th>\n",
       "      <th>loan_status</th>\n",
       "      <th>ratio</th>\n",
       "    </tr>\n",
       "  </thead>\n",
       "  <tbody>\n",
       "    <tr>\n",
       "      <td>0</td>\n",
       "      <td>Fully Paid</td>\n",
       "      <td>0.461087</td>\n",
       "    </tr>\n",
       "    <tr>\n",
       "      <td>1</td>\n",
       "      <td>Current</td>\n",
       "      <td>0.406913</td>\n",
       "    </tr>\n",
       "    <tr>\n",
       "      <td>2</td>\n",
       "      <td>Charged Off</td>\n",
       "      <td>0.115400</td>\n",
       "    </tr>\n",
       "    <tr>\n",
       "      <td>3</td>\n",
       "      <td>Late (31-120 days)</td>\n",
       "      <td>0.009600</td>\n",
       "    </tr>\n",
       "    <tr>\n",
       "      <td>4</td>\n",
       "      <td>In Grace Period</td>\n",
       "      <td>0.004063</td>\n",
       "    </tr>\n",
       "    <tr>\n",
       "      <td>5</td>\n",
       "      <td>Late (16-30 days)</td>\n",
       "      <td>0.001762</td>\n",
       "    </tr>\n",
       "    <tr>\n",
       "      <td>6</td>\n",
       "      <td>Does not meet the credit policy. Status:Fully ...</td>\n",
       "      <td>0.000775</td>\n",
       "    </tr>\n",
       "    <tr>\n",
       "      <td>7</td>\n",
       "      <td>Does not meet the credit policy. Status:Charge...</td>\n",
       "      <td>0.000387</td>\n",
       "    </tr>\n",
       "    <tr>\n",
       "      <td>8</td>\n",
       "      <td>Default</td>\n",
       "      <td>0.000013</td>\n",
       "    </tr>\n",
       "  </tbody>\n",
       "</table>\n",
       "</div>"
      ],
      "text/plain": [
       "                                         loan_status     ratio\n",
       "0                                         Fully Paid  0.461087\n",
       "1                                            Current  0.406913\n",
       "2                                        Charged Off  0.115400\n",
       "3                                 Late (31-120 days)  0.009600\n",
       "4                                    In Grace Period  0.004063\n",
       "5                                  Late (16-30 days)  0.001762\n",
       "6  Does not meet the credit policy. Status:Fully ...  0.000775\n",
       "7  Does not meet the credit policy. Status:Charge...  0.000387\n",
       "8                                            Default  0.000013"
      ]
     },
     "metadata": {},
     "output_type": "display_data"
    },
    {
     "data": {
      "image/png": "[encoded data removed]",
      "text/plain": [
       "<Figure size 432x288 with 1 Axes>"
      ]
     },
     "metadata": {
      "needs_background": "light"
     },
     "output_type": "display_data"
    }
   ],
   "source": [
    "plot_ratio(df, 'loan_status')"
   ]
  },
  {
   "cell_type": "markdown",
   "metadata": {},
   "source": [
    "Despite 9 unique values are available, we are going to **distinguish between only 2 unique values**:\n",
    "* **1.0** - if ***loan_status*** is equal to ***Charged Off***, ***Default***, ***Does not meet the credit policy. Status:Charged Off*** or ***Late (31-120 days)***\n",
    "* **0.0** - otherwise"
   ]
  },
  {
   "cell_type": "code",
   "execution_count": 9,
   "metadata": {},
   "outputs": [],
   "source": [
    "df.loan_status = df.loan_status.apply(\n",
    "    lambda x: 1.0 if x in ['Charged Off', 'Default', 'Late (31-120 days)',\n",
    "                           'Does not meet the credit policy. Status:Charged Off'] else 0.0)"
   ]
  },
  {
   "cell_type": "markdown",
   "metadata": {},
   "source": [
    "Let's now see **how unbalanced** are our labels."
   ]
  },
  {
   "cell_type": "code",
   "execution_count": 10,
   "metadata": {},
   "outputs": [
    {
     "data": {
      "text/html": [
       "<div>\n",
       "<style scoped>\n",
       "    .dataframe tbody tr th:only-of-type {\n",
       "        vertical-align: middle;\n",
       "    }\n",
       "\n",
       "    .dataframe tbody tr th {\n",
       "        vertical-align: top;\n",
       "    }\n",
       "\n",
       "    .dataframe thead th {\n",
       "        text-align: right;\n",
       "    }\n",
       "</style>\n",
       "<table border=\"1\" class=\"dataframe\">\n",
       "  <thead>\n",
       "    <tr style=\"text-align: right;\">\n",
       "      <th></th>\n",
       "      <th>loan_status</th>\n",
       "      <th>ratio</th>\n",
       "    </tr>\n",
       "  </thead>\n",
       "  <tbody>\n",
       "    <tr>\n",
       "      <td>0</td>\n",
       "      <td>0.0</td>\n",
       "      <td>0.8746</td>\n",
       "    </tr>\n",
       "    <tr>\n",
       "      <td>1</td>\n",
       "      <td>1.0</td>\n",
       "      <td>0.1254</td>\n",
       "    </tr>\n",
       "  </tbody>\n",
       "</table>\n",
       "</div>"
      ],
      "text/plain": [
       "   loan_status   ratio\n",
       "0          0.0  0.8746\n",
       "1          1.0  0.1254"
      ]
     },
     "metadata": {},
     "output_type": "display_data"
    },
    {
     "data": {
      "image/png": "[encoded data removed]",
      "text/plain": [
       "<Figure size 432x288 with 1 Axes>"
      ]
     },
     "metadata": {
      "needs_background": "light"
     },
     "output_type": "display_data"
    }
   ],
   "source": [
    "plot_ratio(df, 'loan_status')"
   ]
  },
  {
   "cell_type": "markdown",
   "metadata": {},
   "source": [
    "Our labels are **quite unbalanced**. Only about **12.5% of them are positive**. We will need to deal with this further, while applying train-test split and training the classification model.\n",
    "\n",
    "We have seen and preprocessed our labels. Let's now look at available **features**. I will start from analyzing **categorical features**."
   ]
  },
  {
   "cell_type": "markdown",
   "metadata": {},
   "source": [
    "## Categorical features"
   ]
  },
  {
   "cell_type": "markdown",
   "metadata": {},
   "source": [
    "Let's see **how many unique values** different categorical features contain."
   ]
  },
  {
   "cell_type": "code",
   "execution_count": 11,
   "metadata": {},
   "outputs": [
    {
     "data": {
      "text/html": [
       "<div>\n",
       "<style scoped>\n",
       "    .dataframe tbody tr th:only-of-type {\n",
       "        vertical-align: middle;\n",
       "    }\n",
       "\n",
       "    .dataframe tbody tr th {\n",
       "        vertical-align: top;\n",
       "    }\n",
       "\n",
       "    .dataframe thead th {\n",
       "        text-align: right;\n",
       "    }\n",
       "</style>\n",
       "<table border=\"1\" class=\"dataframe\">\n",
       "  <thead>\n",
       "    <tr style=\"text-align: right;\">\n",
       "      <th></th>\n",
       "      <th>feature</th>\n",
       "      <th>unique values</th>\n",
       "    </tr>\n",
       "  </thead>\n",
       "  <tbody>\n",
       "    <tr>\n",
       "      <td>0</td>\n",
       "      <td>application_type</td>\n",
       "      <td>2</td>\n",
       "    </tr>\n",
       "    <tr>\n",
       "      <td>1</td>\n",
       "      <td>term</td>\n",
       "      <td>3</td>\n",
       "    </tr>\n",
       "    <tr>\n",
       "      <td>2</td>\n",
       "      <td>home_ownership</td>\n",
       "      <td>6</td>\n",
       "    </tr>\n",
       "    <tr>\n",
       "      <td>3</td>\n",
       "      <td>grade</td>\n",
       "      <td>7</td>\n",
       "    </tr>\n",
       "    <tr>\n",
       "      <td>4</td>\n",
       "      <td>sub_grade</td>\n",
       "      <td>35</td>\n",
       "    </tr>\n",
       "    <tr>\n",
       "      <td>5</td>\n",
       "      <td>last_pymnt_d</td>\n",
       "      <td>129</td>\n",
       "    </tr>\n",
       "    <tr>\n",
       "      <td>6</td>\n",
       "      <td>issue_d</td>\n",
       "      <td>138</td>\n",
       "    </tr>\n",
       "    <tr>\n",
       "      <td>7</td>\n",
       "      <td>earliest_cr_line</td>\n",
       "      <td>636</td>\n",
       "    </tr>\n",
       "  </tbody>\n",
       "</table>\n",
       "</div>"
      ],
      "text/plain": [
       "            feature  unique values\n",
       "0  application_type              2\n",
       "1              term              3\n",
       "2    home_ownership              6\n",
       "3             grade              7\n",
       "4         sub_grade             35\n",
       "5      last_pymnt_d            129\n",
       "6           issue_d            138\n",
       "7  earliest_cr_line            636"
      ]
     },
     "execution_count": 11,
     "metadata": {},
     "output_type": "execute_result"
    }
   ],
   "source": [
    "df.drop(columns=['loan_status']).select_dtypes(object).nunique().sort_values().to_frame().reset_index().rename(columns={'index': 'feature', 0: 'unique values'})"
   ]
  },
  {
   "cell_type": "markdown",
   "metadata": {},
   "source": [
    "Let's start from analyzing features with the smallest number of unique values."
   ]
  },
  {
   "cell_type": "markdown",
   "metadata": {},
   "source": [
    "### application_type"
   ]
  },
  {
   "cell_type": "markdown",
   "metadata": {},
   "source": [
    "Variable ***application_type*** has 2 unique values."
   ]
  },
  {
   "cell_type": "code",
   "execution_count": 12,
   "metadata": {},
   "outputs": [
    {
     "data": {
      "text/html": [
       "<div>\n",
       "<style scoped>\n",
       "    .dataframe tbody tr th:only-of-type {\n",
       "        vertical-align: middle;\n",
       "    }\n",
       "\n",
       "    .dataframe tbody tr th {\n",
       "        vertical-align: top;\n",
       "    }\n",
       "\n",
       "    .dataframe thead th {\n",
       "        text-align: right;\n",
       "    }\n",
       "</style>\n",
       "<table border=\"1\" class=\"dataframe\">\n",
       "  <thead>\n",
       "    <tr style=\"text-align: right;\">\n",
       "      <th></th>\n",
       "      <th>application_type</th>\n",
       "      <th>ratio</th>\n",
       "    </tr>\n",
       "  </thead>\n",
       "  <tbody>\n",
       "    <tr>\n",
       "      <td>0</td>\n",
       "      <td>Individual</td>\n",
       "      <td>0.946937</td>\n",
       "    </tr>\n",
       "    <tr>\n",
       "      <td>1</td>\n",
       "      <td>Joint App</td>\n",
       "      <td>0.053062</td>\n",
       "    </tr>\n",
       "  </tbody>\n",
       "</table>\n",
       "</div>"
      ],
      "text/plain": [
       "  application_type     ratio\n",
       "0       Individual  0.946937\n",
       "1        Joint App  0.053062"
      ]
     },
     "metadata": {},
     "output_type": "display_data"
    },
    {
     "data": {
      "image/png": "[encoded data removed]",
      "text/plain": [
       "<Figure size 432x288 with 1 Axes>"
      ]
     },
     "metadata": {
      "needs_background": "light"
     },
     "output_type": "display_data"
    }
   ],
   "source": [
    "plot_ratio(df, 'application_type')"
   ]
  },
  {
   "cell_type": "markdown",
   "metadata": {},
   "source": [
    "Since we are dealing with binary variable, we can simply use **LabelEncoder** and convert it into non-categorical variable."
   ]
  },
  {
   "cell_type": "code",
   "execution_count": 13,
   "metadata": {},
   "outputs": [],
   "source": [
    "df.application_type = LabelEncoder().fit_transform(df.application_type).astype('float64')"
   ]
  },
  {
   "cell_type": "markdown",
   "metadata": {},
   "source": [
    "### term"
   ]
  },
  {
   "cell_type": "markdown",
   "metadata": {},
   "source": [
    "Variable ***term*** has 3 unique values."
   ]
  },
  {
   "cell_type": "code",
   "execution_count": 14,
   "metadata": {},
   "outputs": [
    {
     "data": {
      "text/html": [
       "<div>\n",
       "<style scoped>\n",
       "    .dataframe tbody tr th:only-of-type {\n",
       "        vertical-align: middle;\n",
       "    }\n",
       "\n",
       "    .dataframe tbody tr th {\n",
       "        vertical-align: top;\n",
       "    }\n",
       "\n",
       "    .dataframe thead th {\n",
       "        text-align: right;\n",
       "    }\n",
       "</style>\n",
       "<table border=\"1\" class=\"dataframe\">\n",
       "  <thead>\n",
       "    <tr style=\"text-align: right;\">\n",
       "      <th></th>\n",
       "      <th>term</th>\n",
       "      <th>ratio</th>\n",
       "    </tr>\n",
       "  </thead>\n",
       "  <tbody>\n",
       "    <tr>\n",
       "      <td>0</td>\n",
       "      <td>36 months</td>\n",
       "      <td>0.714888</td>\n",
       "    </tr>\n",
       "    <tr>\n",
       "      <td>1</td>\n",
       "      <td>60 months</td>\n",
       "      <td>0.285100</td>\n",
       "    </tr>\n",
       "    <tr>\n",
       "      <td>2</td>\n",
       "      <td>36 months</td>\n",
       "      <td>0.000013</td>\n",
       "    </tr>\n",
       "  </tbody>\n",
       "</table>\n",
       "</div>"
      ],
      "text/plain": [
       "         term     ratio\n",
       "0   36 months  0.714888\n",
       "1   60 months  0.285100\n",
       "2   36 months  0.000013"
      ]
     },
     "metadata": {},
     "output_type": "display_data"
    },
    {
     "data": {
      "image/png": "[encoded data removed]",
      "text/plain": [
       "<Figure size 432x288 with 1 Axes>"
      ]
     },
     "metadata": {
      "needs_background": "light"
     },
     "output_type": "display_data"
    }
   ],
   "source": [
    "plot_ratio(df, 'term')"
   ]
  },
  {
   "cell_type": "markdown",
   "metadata": {},
   "source": [
    "The variable **sometimes contains a whitespace in it's name**. Since this variable has numerical meaning, I will **extract this number (36 or 60) from every value in this column** by splitting stringified value and taking the first element. From now on this variable will be non-categorical."
   ]
  },
  {
   "cell_type": "code",
   "execution_count": 15,
   "metadata": {},
   "outputs": [],
   "source": [
    "df.term = df.term.apply(lambda  x: float(x.split()[0]))"
   ]
  },
  {
   "cell_type": "markdown",
   "metadata": {},
   "source": [
    "### home_ownership"
   ]
  },
  {
   "cell_type": "markdown",
   "metadata": {},
   "source": [
    "Variable ***home_ownership*** has 6 unique values."
   ]
  },
  {
   "cell_type": "code",
   "execution_count": 16,
   "metadata": {},
   "outputs": [
    {
     "data": {
      "text/html": [
       "<div>\n",
       "<style scoped>\n",
       "    .dataframe tbody tr th:only-of-type {\n",
       "        vertical-align: middle;\n",
       "    }\n",
       "\n",
       "    .dataframe tbody tr th {\n",
       "        vertical-align: top;\n",
       "    }\n",
       "\n",
       "    .dataframe thead th {\n",
       "        text-align: right;\n",
       "    }\n",
       "</style>\n",
       "<table border=\"1\" class=\"dataframe\">\n",
       "  <thead>\n",
       "    <tr style=\"text-align: right;\">\n",
       "      <th></th>\n",
       "      <th>home_ownership</th>\n",
       "      <th>ratio</th>\n",
       "    </tr>\n",
       "  </thead>\n",
       "  <tbody>\n",
       "    <tr>\n",
       "      <td>0</td>\n",
       "      <td>MORTGAGE</td>\n",
       "      <td>0.487000</td>\n",
       "    </tr>\n",
       "    <tr>\n",
       "      <td>1</td>\n",
       "      <td>RENT</td>\n",
       "      <td>0.401037</td>\n",
       "    </tr>\n",
       "    <tr>\n",
       "      <td>2</td>\n",
       "      <td>OWN</td>\n",
       "      <td>0.111600</td>\n",
       "    </tr>\n",
       "    <tr>\n",
       "      <td>3</td>\n",
       "      <td>ANY</td>\n",
       "      <td>0.000300</td>\n",
       "    </tr>\n",
       "    <tr>\n",
       "      <td>4</td>\n",
       "      <td>OTHER</td>\n",
       "      <td>0.000050</td>\n",
       "    </tr>\n",
       "    <tr>\n",
       "      <td>5</td>\n",
       "      <td>NONE</td>\n",
       "      <td>0.000013</td>\n",
       "    </tr>\n",
       "  </tbody>\n",
       "</table>\n",
       "</div>"
      ],
      "text/plain": [
       "  home_ownership     ratio\n",
       "0       MORTGAGE  0.487000\n",
       "1           RENT  0.401037\n",
       "2            OWN  0.111600\n",
       "3            ANY  0.000300\n",
       "4          OTHER  0.000050\n",
       "5           NONE  0.000013"
      ]
     },
     "metadata": {},
     "output_type": "display_data"
    },
    {
     "data": {
      "image/png": "[encoded data removed]",
      "text/plain": [
       "<Figure size 432x288 with 1 Axes>"
      ]
     },
     "metadata": {
      "needs_background": "light"
     },
     "output_type": "display_data"
    }
   ],
   "source": [
    "plot_ratio(df, 'home_ownership')"
   ]
  },
  {
   "cell_type": "markdown",
   "metadata": {},
   "source": [
    "Since we are dealing with categorical variable with multiple values, we need to apply **one hot encoding**."
   ]
  },
  {
   "cell_type": "code",
   "execution_count": 17,
   "metadata": {},
   "outputs": [],
   "source": [
    "df = pd.get_dummies(df, columns=['home_ownership'], dtype='float64')"
   ]
  },
  {
   "cell_type": "markdown",
   "metadata": {},
   "source": [
    "### grade"
   ]
  },
  {
   "cell_type": "markdown",
   "metadata": {},
   "source": [
    "Variable ***grade*** has 7 unique values."
   ]
  },
  {
   "cell_type": "code",
   "execution_count": 18,
   "metadata": {},
   "outputs": [
    {
     "data": {
      "text/html": [
       "<div>\n",
       "<style scoped>\n",
       "    .dataframe tbody tr th:only-of-type {\n",
       "        vertical-align: middle;\n",
       "    }\n",
       "\n",
       "    .dataframe tbody tr th {\n",
       "        vertical-align: top;\n",
       "    }\n",
       "\n",
       "    .dataframe thead th {\n",
       "        text-align: right;\n",
       "    }\n",
       "</style>\n",
       "<table border=\"1\" class=\"dataframe\">\n",
       "  <thead>\n",
       "    <tr style=\"text-align: right;\">\n",
       "      <th></th>\n",
       "      <th>grade</th>\n",
       "      <th>ratio</th>\n",
       "    </tr>\n",
       "  </thead>\n",
       "  <tbody>\n",
       "    <tr>\n",
       "      <td>0</td>\n",
       "      <td>B</td>\n",
       "      <td>0.290888</td>\n",
       "    </tr>\n",
       "    <tr>\n",
       "      <td>1</td>\n",
       "      <td>C</td>\n",
       "      <td>0.287612</td>\n",
       "    </tr>\n",
       "    <tr>\n",
       "      <td>2</td>\n",
       "      <td>A</td>\n",
       "      <td>0.191887</td>\n",
       "    </tr>\n",
       "    <tr>\n",
       "      <td>3</td>\n",
       "      <td>D</td>\n",
       "      <td>0.144313</td>\n",
       "    </tr>\n",
       "    <tr>\n",
       "      <td>4</td>\n",
       "      <td>E</td>\n",
       "      <td>0.061687</td>\n",
       "    </tr>\n",
       "    <tr>\n",
       "      <td>5</td>\n",
       "      <td>F</td>\n",
       "      <td>0.018050</td>\n",
       "    </tr>\n",
       "    <tr>\n",
       "      <td>6</td>\n",
       "      <td>G</td>\n",
       "      <td>0.005562</td>\n",
       "    </tr>\n",
       "  </tbody>\n",
       "</table>\n",
       "</div>"
      ],
      "text/plain": [
       "  grade     ratio\n",
       "0     B  0.290888\n",
       "1     C  0.287612\n",
       "2     A  0.191887\n",
       "3     D  0.144313\n",
       "4     E  0.061687\n",
       "5     F  0.018050\n",
       "6     G  0.005562"
      ]
     },
     "metadata": {},
     "output_type": "display_data"
    },
    {
     "data": {
      "image/png": "[encoded data removed]",
      "text/plain": [
       "<Figure size 432x288 with 1 Axes>"
      ]
     },
     "metadata": {
      "needs_background": "light"
     },
     "output_type": "display_data"
    }
   ],
   "source": [
    "plot_ratio(df, 'grade')"
   ]
  },
  {
   "cell_type": "markdown",
   "metadata": {},
   "source": [
    "I will use **one hot encoding** again."
   ]
  },
  {
   "cell_type": "code",
   "execution_count": 19,
   "metadata": {},
   "outputs": [],
   "source": [
    "df = pd.get_dummies(df, columns=['grade'], dtype='float64')"
   ]
  },
  {
   "cell_type": "markdown",
   "metadata": {},
   "source": [
    "### sub_grade"
   ]
  },
  {
   "cell_type": "markdown",
   "metadata": {},
   "source": [
    "Variable ***sub_grade*** has 35 unique values."
   ]
  },
  {
   "cell_type": "code",
   "execution_count": 20,
   "metadata": {},
   "outputs": [
    {
     "data": {
      "text/html": [
       "<div>\n",
       "<style scoped>\n",
       "    .dataframe tbody tr th:only-of-type {\n",
       "        vertical-align: middle;\n",
       "    }\n",
       "\n",
       "    .dataframe tbody tr th {\n",
       "        vertical-align: top;\n",
       "    }\n",
       "\n",
       "    .dataframe thead th {\n",
       "        text-align: right;\n",
       "    }\n",
       "</style>\n",
       "<table border=\"1\" class=\"dataframe\">\n",
       "  <thead>\n",
       "    <tr style=\"text-align: right;\">\n",
       "      <th></th>\n",
       "      <th>sub_grade</th>\n",
       "      <th>ratio</th>\n",
       "    </tr>\n",
       "  </thead>\n",
       "  <tbody>\n",
       "    <tr>\n",
       "      <td>0</td>\n",
       "      <td>C1</td>\n",
       "      <td>0.065650</td>\n",
       "    </tr>\n",
       "    <tr>\n",
       "      <td>1</td>\n",
       "      <td>B4</td>\n",
       "      <td>0.061325</td>\n",
       "    </tr>\n",
       "    <tr>\n",
       "      <td>2</td>\n",
       "      <td>B5</td>\n",
       "      <td>0.061250</td>\n",
       "    </tr>\n",
       "    <tr>\n",
       "      <td>3</td>\n",
       "      <td>C2</td>\n",
       "      <td>0.058075</td>\n",
       "    </tr>\n",
       "    <tr>\n",
       "      <td>4</td>\n",
       "      <td>B3</td>\n",
       "      <td>0.057287</td>\n",
       "    </tr>\n",
       "    <tr>\n",
       "      <td>...</td>\n",
       "      <td>...</td>\n",
       "      <td>...</td>\n",
       "    </tr>\n",
       "    <tr>\n",
       "      <td>30</td>\n",
       "      <td>G1</td>\n",
       "      <td>0.001937</td>\n",
       "    </tr>\n",
       "    <tr>\n",
       "      <td>31</td>\n",
       "      <td>G2</td>\n",
       "      <td>0.001075</td>\n",
       "    </tr>\n",
       "    <tr>\n",
       "      <td>32</td>\n",
       "      <td>G3</td>\n",
       "      <td>0.001000</td>\n",
       "    </tr>\n",
       "    <tr>\n",
       "      <td>33</td>\n",
       "      <td>G4</td>\n",
       "      <td>0.000812</td>\n",
       "    </tr>\n",
       "    <tr>\n",
       "      <td>34</td>\n",
       "      <td>G5</td>\n",
       "      <td>0.000737</td>\n",
       "    </tr>\n",
       "  </tbody>\n",
       "</table>\n",
       "<p>35 rows × 2 columns</p>\n",
       "</div>"
      ],
      "text/plain": [
       "   sub_grade     ratio\n",
       "0         C1  0.065650\n",
       "1         B4  0.061325\n",
       "2         B5  0.061250\n",
       "3         C2  0.058075\n",
       "4         B3  0.057287\n",
       "..       ...       ...\n",
       "30        G1  0.001937\n",
       "31        G2  0.001075\n",
       "32        G3  0.001000\n",
       "33        G4  0.000812\n",
       "34        G5  0.000737\n",
       "\n",
       "[35 rows x 2 columns]"
      ]
     },
     "metadata": {},
     "output_type": "display_data"
    },
    {
     "data": {
      "image/png": "[encoded data removed]",
      "text/plain": [
       "<Figure size 432x288 with 1 Axes>"
      ]
     },
     "metadata": {
      "needs_background": "light"
     },
     "output_type": "display_data"
    }
   ],
   "source": [
    "plot_ratio(df, 'sub_grade')"
   ]
  },
  {
   "cell_type": "markdown",
   "metadata": {},
   "source": [
    "Again - **one hot encoding**."
   ]
  },
  {
   "cell_type": "code",
   "execution_count": 21,
   "metadata": {},
   "outputs": [],
   "source": [
    "df = pd.get_dummies(df, columns=['sub_grade'], dtype='float64')"
   ]
  },
  {
   "cell_type": "markdown",
   "metadata": {},
   "source": [
    "### Dates: last_pymnt_d, issue_d and earliest_cr_line"
   ]
  },
  {
   "cell_type": "markdown",
   "metadata": {},
   "source": [
    "Variables ***last_pymnt_d***, ***issue_d*** and ***earliest_cr_line*** are dates. As I guessed, these dates occured to be dependent on each other. All dates from ***earliest_cr_line*** are earlier than dates from ***issue_d***  and all dates from ***issue_d***  are earlier than dates from ***last_pymnt_d***. Therefore, I decided to convert these variables into floats representing **number of days since 1930**. It can be beneficial since I will be using distance-based algorithms for training. From now on all dates will be represented as floating point, non-categorical variables."
   ]
  },
  {
   "cell_type": "code",
   "execution_count": 22,
   "metadata": {},
   "outputs": [],
   "source": [
    "def _str_date_to_datetime(str_date):\n",
    "    if type(str_date) != float:\n",
    "        return datetime.strptime(str_date, '%b-%Y')\n",
    "    return np.nan\n",
    "\n",
    "\n",
    "def fix_dates(df):\n",
    "    date_cols = ['earliest_cr_line', 'issue_d', 'last_pymnt_d']\n",
    "    initial_date = datetime.strptime('Jan-1930', '%b-%Y')\n",
    "    df[date_cols] = df[date_cols].applymap(_str_date_to_datetime)\n",
    "    df.last_pymnt_d = (df.last_pymnt_d - initial_date).apply(lambda x: x.days)\n",
    "    df.issue_d = (df.issue_d - initial_date).apply(lambda x: x.days)\n",
    "    df.earliest_cr_line = (df.earliest_cr_line - initial_date).apply(lambda x: x.days)"
   ]
  },
  {
   "cell_type": "code",
   "execution_count": 23,
   "metadata": {},
   "outputs": [],
   "source": [
    "fix_dates(df)"
   ]
  },
  {
   "cell_type": "markdown",
   "metadata": {},
   "source": [
    "Let's see how our dates were transformed. Since these variables are non-categorical, I will plot their distributions."
   ]
  },
  {
   "cell_type": "code",
   "execution_count": 24,
   "metadata": {},
   "outputs": [],
   "source": [
    "def plot_dist(df, name, ax):\n",
    "    ax.set_title(name)\n",
    "    sns.distplot(df[name].dropna().values, ax=ax)"
   ]
  },
  {
   "cell_type": "code",
   "execution_count": 25,
   "metadata": {},
   "outputs": [
    {
     "data": {
      "image/png": "[encoded data removed]",
      "text/plain": [
       "<Figure size 1440x360 with 3 Axes>"
      ]
     },
     "metadata": {
      "needs_background": "light"
     },
     "output_type": "display_data"
    }
   ],
   "source": [
    "fig, axs = plt.subplots(1, 3, figsize=(20, 5))\n",
    "plot_dist(df, 'earliest_cr_line', axs[0])\n",
    "plot_dist(df, 'issue_d', axs[1])\n",
    "plot_dist(df, 'last_pymnt_d', axs[2])"
   ]
  },
  {
   "cell_type": "markdown",
   "metadata": {},
   "source": [
    "We have analyzed and preprocessed all categorical features. **Let's now analyze non-categorical features**."
   ]
  },
  {
   "cell_type": "markdown",
   "metadata": {},
   "source": [
    "## Non-categorical features"
   ]
  },
  {
   "cell_type": "markdown",
   "metadata": {},
   "source": [
    "Let's summarize our datatypes after dealing with categorical features."
   ]
  },
  {
   "cell_type": "code",
   "execution_count": 26,
   "metadata": {},
   "outputs": [
    {
     "name": "stdout",
     "output_type": "stream",
     "text": [
      "<class 'pandas.core.frame.DataFrame'>\n",
      "Int64Index: 80000 entries, 1758049 to 2145511\n",
      "Data columns (total 59 columns):\n",
      "term                       80000 non-null float64\n",
      "int_rate                   80000 non-null float64\n",
      "installment                80000 non-null float64\n",
      "annual_inc                 80000 non-null float64\n",
      "issue_d                    80000 non-null int64\n",
      "loan_status                80000 non-null float64\n",
      "dti                        79944 non-null float64\n",
      "earliest_cr_line           79998 non-null float64\n",
      "recoveries                 80000 non-null float64\n",
      "last_pymnt_d               79906 non-null float64\n",
      "application_type           80000 non-null float64\n",
      "home_ownership_ANY         80000 non-null float64\n",
      "home_ownership_MORTGAGE    80000 non-null float64\n",
      "home_ownership_NONE        80000 non-null float64\n",
      "home_ownership_OTHER       80000 non-null float64\n",
      "home_ownership_OWN         80000 non-null float64\n",
      "home_ownership_RENT        80000 non-null float64\n",
      "grade_A                    80000 non-null float64\n",
      "grade_B                    80000 non-null float64\n",
      "grade_C                    80000 non-null float64\n",
      "grade_D                    80000 non-null float64\n",
      "grade_E                    80000 non-null float64\n",
      "grade_F                    80000 non-null float64\n",
      "grade_G                    80000 non-null float64\n",
      "sub_grade_A1               80000 non-null float64\n",
      "sub_grade_A2               80000 non-null float64\n",
      "sub_grade_A3               80000 non-null float64\n",
      "sub_grade_A4               80000 non-null float64\n",
      "sub_grade_A5               80000 non-null float64\n",
      "sub_grade_B1               80000 non-null float64\n",
      "sub_grade_B2               80000 non-null float64\n",
      "sub_grade_B3               80000 non-null float64\n",
      "sub_grade_B4               80000 non-null float64\n",
      "sub_grade_B5               80000 non-null float64\n",
      "sub_grade_C1               80000 non-null float64\n",
      "sub_grade_C2               80000 non-null float64\n",
      "sub_grade_C3               80000 non-null float64\n",
      "sub_grade_C4               80000 non-null float64\n",
      "sub_grade_C5               80000 non-null float64\n",
      "sub_grade_D1               80000 non-null float64\n",
      "sub_grade_D2               80000 non-null float64\n",
      "sub_grade_D3               80000 non-null float64\n",
      "sub_grade_D4               80000 non-null float64\n",
      "sub_grade_D5               80000 non-null float64\n",
      "sub_grade_E1               80000 non-null float64\n",
      "sub_grade_E2               80000 non-null float64\n",
      "sub_grade_E3               80000 non-null float64\n",
      "sub_grade_E4               80000 non-null float64\n",
      "sub_grade_E5               80000 non-null float64\n",
      "sub_grade_F1               80000 non-null float64\n",
      "sub_grade_F2               80000 non-null float64\n",
      "sub_grade_F3               80000 non-null float64\n",
      "sub_grade_F4               80000 non-null float64\n",
      "sub_grade_F5               80000 non-null float64\n",
      "sub_grade_G1               80000 non-null float64\n",
      "sub_grade_G2               80000 non-null float64\n",
      "sub_grade_G3               80000 non-null float64\n",
      "sub_grade_G4               80000 non-null float64\n",
      "sub_grade_G5               80000 non-null float64\n",
      "dtypes: float64(58), int64(1)\n",
      "memory usage: 39.1 MB\n"
     ]
    }
   ],
   "source": [
    "df.info()"
   ]
  },
  {
   "cell_type": "markdown",
   "metadata": {},
   "source": [
    "As we see, **all features are now non-categorical**. Let's plot distributions of these non-categorical features which we haven't seen yet."
   ]
  },
  {
   "cell_type": "code",
   "execution_count": 27,
   "metadata": {},
   "outputs": [
    {
     "data": {
      "image/png": "[encoded data removed]",
      "text/plain": [
       "<Figure size 1440x720 with 5 Axes>"
      ]
     },
     "metadata": {
      "needs_background": "light"
     },
     "output_type": "display_data"
    }
   ],
   "source": [
    "fig, axs = plt.subplots(2, 3, figsize=(20, 10))\n",
    "plot_dist(df, 'int_rate', axs[0][0])\n",
    "plot_dist(df, 'installment', axs[0][1])\n",
    "plot_dist(df, 'annual_inc', axs[0][2])\n",
    "plot_dist(df, 'dti', axs[1][0])\n",
    "plot_dist(df, 'recoveries', axs[1][1])\n",
    "fig.delaxes(axs[1][2])"
   ]
  },
  {
   "cell_type": "markdown",
   "metadata": {},
   "source": [
    "Some values may be **outliers**. This issue will be concidered further, before training the models.\n",
    "\n",
    "Now I will **split dataset into training and testing sets**."
   ]
  },
  {
   "cell_type": "markdown",
   "metadata": {},
   "source": [
    "## Train-test split"
   ]
  },
  {
   "cell_type": "markdown",
   "metadata": {},
   "source": [
    "The test set will contain **20%** of the whole dataset (**16 000 rows**). The train set will contain the rest (**64 000 rows**).\n",
    "* train size: **64 000**\n",
    "* test size: **16 000**\n",
    "\n",
    "Since we are dealing with strongly unbalanced data, I decided to use ***stratification*** parameter for splitting the dataset. It will result in the same *positive to negative labels ratio* in both training and testing sets. It would simulate sampling larger splits from larger datasets."
   ]
  },
  {
   "cell_type": "code",
   "execution_count": 28,
   "metadata": {},
   "outputs": [],
   "source": [
    "X_train, X_test, y_train, y_test = train_test_split(\n",
    "    df.drop(columns=['loan_status']),\n",
    "    df.loan_status,\n",
    "    test_size=0.2,\n",
    "    stratify=df.loan_status,\n",
    "    random_state=42\n",
    ")"
   ]
  },
  {
   "cell_type": "markdown",
   "metadata": {},
   "source": [
    "Now we need to **deal with missing values**."
   ]
  },
  {
   "cell_type": "markdown",
   "metadata": {},
   "source": [
    "## Missing values imputation"
   ]
  },
  {
   "cell_type": "markdown",
   "metadata": {},
   "source": [
    "I will impute missing values into both training and testing sets but **using only training set estimates**. It is important because now (after applying train-test split) we are forced to use only training data.\n",
    "\n",
    "Class ***IterativeImputer*** enables modeling each feature with missing values as a function of other features, and using that estimate for imputation. This solution brought better results than ***SimpleImputer*** which was able to impute only some simple statistics like mean or median."
   ]
  },
  {
   "cell_type": "code",
   "execution_count": 29,
   "metadata": {},
   "outputs": [],
   "source": [
    "imputer = IterativeImputer(random_state=42).fit(X_train)\n",
    "X_train[:] = imputer.transform(X_train)\n",
    "X_test[:] = imputer.transform(X_test)"
   ]
  },
  {
   "cell_type": "markdown",
   "metadata": {},
   "source": [
    "## Feature selection"
   ]
  },
  {
   "cell_type": "markdown",
   "metadata": {},
   "source": [
    "Let's now apply feature selection in order to **prevent overfitting**. I will train ***ExtraTreesClassifier*** on the training data and **select the most important features from this model**."
   ]
  },
  {
   "cell_type": "code",
   "execution_count": 30,
   "metadata": {},
   "outputs": [
    {
     "data": {
      "text/html": [
       "<div>\n",
       "<style scoped>\n",
       "    .dataframe tbody tr th:only-of-type {\n",
       "        vertical-align: middle;\n",
       "    }\n",
       "\n",
       "    .dataframe tbody tr th {\n",
       "        vertical-align: top;\n",
       "    }\n",
       "\n",
       "    .dataframe thead th {\n",
       "        text-align: right;\n",
       "    }\n",
       "</style>\n",
       "<table border=\"1\" class=\"dataframe\">\n",
       "  <thead>\n",
       "    <tr style=\"text-align: right;\">\n",
       "      <th></th>\n",
       "      <th>term</th>\n",
       "      <th>int_rate</th>\n",
       "      <th>installment</th>\n",
       "      <th>annual_inc</th>\n",
       "      <th>issue_d</th>\n",
       "      <th>dti</th>\n",
       "      <th>earliest_cr_line</th>\n",
       "      <th>recoveries</th>\n",
       "      <th>last_pymnt_d</th>\n",
       "      <th>application_type</th>\n",
       "      <th>...</th>\n",
       "      <th>sub_grade_F1</th>\n",
       "      <th>sub_grade_F2</th>\n",
       "      <th>sub_grade_F3</th>\n",
       "      <th>sub_grade_F4</th>\n",
       "      <th>sub_grade_F5</th>\n",
       "      <th>sub_grade_G1</th>\n",
       "      <th>sub_grade_G2</th>\n",
       "      <th>sub_grade_G3</th>\n",
       "      <th>sub_grade_G4</th>\n",
       "      <th>sub_grade_G5</th>\n",
       "    </tr>\n",
       "  </thead>\n",
       "  <tbody>\n",
       "    <tr>\n",
       "      <td>227884</td>\n",
       "      <td>60.0</td>\n",
       "      <td>11.55</td>\n",
       "      <td>550.45</td>\n",
       "      <td>35000.0</td>\n",
       "      <td>32323.0</td>\n",
       "      <td>19.44</td>\n",
       "      <td>28763.0</td>\n",
       "      <td>0.0</td>\n",
       "      <td>32507.0</td>\n",
       "      <td>0.0</td>\n",
       "      <td>...</td>\n",
       "      <td>0.0</td>\n",
       "      <td>0.0</td>\n",
       "      <td>0.0</td>\n",
       "      <td>0.0</td>\n",
       "      <td>0.0</td>\n",
       "      <td>0.0</td>\n",
       "      <td>0.0</td>\n",
       "      <td>0.0</td>\n",
       "      <td>0.0</td>\n",
       "      <td>0.0</td>\n",
       "    </tr>\n",
       "    <tr>\n",
       "      <td>1524647</td>\n",
       "      <td>36.0</td>\n",
       "      <td>10.42</td>\n",
       "      <td>259.72</td>\n",
       "      <td>60000.0</td>\n",
       "      <td>31989.0</td>\n",
       "      <td>5.74</td>\n",
       "      <td>26875.0</td>\n",
       "      <td>0.0</td>\n",
       "      <td>32538.0</td>\n",
       "      <td>0.0</td>\n",
       "      <td>...</td>\n",
       "      <td>0.0</td>\n",
       "      <td>0.0</td>\n",
       "      <td>0.0</td>\n",
       "      <td>0.0</td>\n",
       "      <td>0.0</td>\n",
       "      <td>0.0</td>\n",
       "      <td>0.0</td>\n",
       "      <td>0.0</td>\n",
       "      <td>0.0</td>\n",
       "      <td>0.0</td>\n",
       "    </tr>\n",
       "    <tr>\n",
       "      <td>129142</td>\n",
       "      <td>36.0</td>\n",
       "      <td>16.14</td>\n",
       "      <td>528.40</td>\n",
       "      <td>32000.0</td>\n",
       "      <td>32385.0</td>\n",
       "      <td>21.34</td>\n",
       "      <td>24411.0</td>\n",
       "      <td>0.0</td>\n",
       "      <td>32507.0</td>\n",
       "      <td>0.0</td>\n",
       "      <td>...</td>\n",
       "      <td>0.0</td>\n",
       "      <td>0.0</td>\n",
       "      <td>0.0</td>\n",
       "      <td>0.0</td>\n",
       "      <td>0.0</td>\n",
       "      <td>0.0</td>\n",
       "      <td>0.0</td>\n",
       "      <td>0.0</td>\n",
       "      <td>0.0</td>\n",
       "      <td>0.0</td>\n",
       "    </tr>\n",
       "    <tr>\n",
       "      <td>753058</td>\n",
       "      <td>36.0</td>\n",
       "      <td>11.99</td>\n",
       "      <td>318.82</td>\n",
       "      <td>50000.0</td>\n",
       "      <td>31442.0</td>\n",
       "      <td>27.17</td>\n",
       "      <td>26936.0</td>\n",
       "      <td>0.0</td>\n",
       "      <td>32538.0</td>\n",
       "      <td>0.0</td>\n",
       "      <td>...</td>\n",
       "      <td>0.0</td>\n",
       "      <td>0.0</td>\n",
       "      <td>0.0</td>\n",
       "      <td>0.0</td>\n",
       "      <td>0.0</td>\n",
       "      <td>0.0</td>\n",
       "      <td>0.0</td>\n",
       "      <td>0.0</td>\n",
       "      <td>0.0</td>\n",
       "      <td>0.0</td>\n",
       "    </tr>\n",
       "    <tr>\n",
       "      <td>1305819</td>\n",
       "      <td>36.0</td>\n",
       "      <td>6.92</td>\n",
       "      <td>373.18</td>\n",
       "      <td>35000.0</td>\n",
       "      <td>31077.0</td>\n",
       "      <td>29.36</td>\n",
       "      <td>25445.0</td>\n",
       "      <td>0.0</td>\n",
       "      <td>32173.0</td>\n",
       "      <td>0.0</td>\n",
       "      <td>...</td>\n",
       "      <td>0.0</td>\n",
       "      <td>0.0</td>\n",
       "      <td>0.0</td>\n",
       "      <td>0.0</td>\n",
       "      <td>0.0</td>\n",
       "      <td>0.0</td>\n",
       "      <td>0.0</td>\n",
       "      <td>0.0</td>\n",
       "      <td>0.0</td>\n",
       "      <td>0.0</td>\n",
       "    </tr>\n",
       "  </tbody>\n",
       "</table>\n",
       "<p>5 rows × 58 columns</p>\n",
       "</div>"
      ],
      "text/plain": [
       "         term  int_rate  installment  annual_inc  issue_d    dti  \\\n",
       "227884   60.0     11.55       550.45     35000.0  32323.0  19.44   \n",
       "1524647  36.0     10.42       259.72     60000.0  31989.0   5.74   \n",
       "129142   36.0     16.14       528.40     32000.0  32385.0  21.34   \n",
       "753058   36.0     11.99       318.82     50000.0  31442.0  27.17   \n",
       "1305819  36.0      6.92       373.18     35000.0  31077.0  29.36   \n",
       "\n",
       "         earliest_cr_line  recoveries  last_pymnt_d  application_type  ...  \\\n",
       "227884            28763.0         0.0       32507.0               0.0  ...   \n",
       "1524647           26875.0         0.0       32538.0               0.0  ...   \n",
       "129142            24411.0         0.0       32507.0               0.0  ...   \n",
       "753058            26936.0         0.0       32538.0               0.0  ...   \n",
       "1305819           25445.0         0.0       32173.0               0.0  ...   \n",
       "\n",
       "         sub_grade_F1  sub_grade_F2  sub_grade_F3  sub_grade_F4  sub_grade_F5  \\\n",
       "227884            0.0           0.0           0.0           0.0           0.0   \n",
       "1524647           0.0           0.0           0.0           0.0           0.0   \n",
       "129142            0.0           0.0           0.0           0.0           0.0   \n",
       "753058            0.0           0.0           0.0           0.0           0.0   \n",
       "1305819           0.0           0.0           0.0           0.0           0.0   \n",
       "\n",
       "         sub_grade_G1  sub_grade_G2  sub_grade_G3  sub_grade_G4  sub_grade_G5  \n",
       "227884            0.0           0.0           0.0           0.0           0.0  \n",
       "1524647           0.0           0.0           0.0           0.0           0.0  \n",
       "129142            0.0           0.0           0.0           0.0           0.0  \n",
       "753058            0.0           0.0           0.0           0.0           0.0  \n",
       "1305819           0.0           0.0           0.0           0.0           0.0  \n",
       "\n",
       "[5 rows x 58 columns]"
      ]
     },
     "execution_count": 30,
     "metadata": {},
     "output_type": "execute_result"
    }
   ],
   "source": [
    "X_train.head()"
   ]
  },
  {
   "cell_type": "code",
   "execution_count": 31,
   "metadata": {},
   "outputs": [],
   "source": [
    "clf = ExtraTreesClassifier(random_state=42).fit(X_train, y_train)\n",
    "feature_selection = SelectFromModel(clf, prefit=True)\n",
    "columns = df.columns[clf.feature_importances_.argsort()[::-1][:8]]\n",
    "X_train = pd.DataFrame(feature_selection.transform(X_train), columns=columns, index=X_train.index)\n",
    "X_test = pd.DataFrame(feature_selection.transform(X_test), columns=columns, index=X_test.index)"
   ]
  },
  {
   "cell_type": "markdown",
   "metadata": {},
   "source": [
    "Let's see which features were selected as the most important."
   ]
  },
  {
   "cell_type": "code",
   "execution_count": 32,
   "metadata": {},
   "outputs": [
    {
     "data": {
      "text/html": [
       "<div>\n",
       "<style scoped>\n",
       "    .dataframe tbody tr th:only-of-type {\n",
       "        vertical-align: middle;\n",
       "    }\n",
       "\n",
       "    .dataframe tbody tr th {\n",
       "        vertical-align: top;\n",
       "    }\n",
       "\n",
       "    .dataframe thead th {\n",
       "        text-align: right;\n",
       "    }\n",
       "</style>\n",
       "<table border=\"1\" class=\"dataframe\">\n",
       "  <thead>\n",
       "    <tr style=\"text-align: right;\">\n",
       "      <th></th>\n",
       "      <th>earliest_cr_line</th>\n",
       "      <th>recoveries</th>\n",
       "      <th>loan_status</th>\n",
       "      <th>dti</th>\n",
       "      <th>issue_d</th>\n",
       "      <th>annual_inc</th>\n",
       "      <th>installment</th>\n",
       "      <th>int_rate</th>\n",
       "    </tr>\n",
       "  </thead>\n",
       "  <tbody>\n",
       "    <tr>\n",
       "      <td>227884</td>\n",
       "      <td>11.55</td>\n",
       "      <td>550.45</td>\n",
       "      <td>35000.0</td>\n",
       "      <td>32323.0</td>\n",
       "      <td>19.44</td>\n",
       "      <td>28763.0</td>\n",
       "      <td>0.0</td>\n",
       "      <td>32507.0</td>\n",
       "    </tr>\n",
       "    <tr>\n",
       "      <td>1524647</td>\n",
       "      <td>10.42</td>\n",
       "      <td>259.72</td>\n",
       "      <td>60000.0</td>\n",
       "      <td>31989.0</td>\n",
       "      <td>5.74</td>\n",
       "      <td>26875.0</td>\n",
       "      <td>0.0</td>\n",
       "      <td>32538.0</td>\n",
       "    </tr>\n",
       "    <tr>\n",
       "      <td>129142</td>\n",
       "      <td>16.14</td>\n",
       "      <td>528.40</td>\n",
       "      <td>32000.0</td>\n",
       "      <td>32385.0</td>\n",
       "      <td>21.34</td>\n",
       "      <td>24411.0</td>\n",
       "      <td>0.0</td>\n",
       "      <td>32507.0</td>\n",
       "    </tr>\n",
       "    <tr>\n",
       "      <td>753058</td>\n",
       "      <td>11.99</td>\n",
       "      <td>318.82</td>\n",
       "      <td>50000.0</td>\n",
       "      <td>31442.0</td>\n",
       "      <td>27.17</td>\n",
       "      <td>26936.0</td>\n",
       "      <td>0.0</td>\n",
       "      <td>32538.0</td>\n",
       "    </tr>\n",
       "    <tr>\n",
       "      <td>1305819</td>\n",
       "      <td>6.92</td>\n",
       "      <td>373.18</td>\n",
       "      <td>35000.0</td>\n",
       "      <td>31077.0</td>\n",
       "      <td>29.36</td>\n",
       "      <td>25445.0</td>\n",
       "      <td>0.0</td>\n",
       "      <td>32173.0</td>\n",
       "    </tr>\n",
       "  </tbody>\n",
       "</table>\n",
       "</div>"
      ],
      "text/plain": [
       "         earliest_cr_line  recoveries  loan_status      dti  issue_d  \\\n",
       "227884              11.55      550.45      35000.0  32323.0    19.44   \n",
       "1524647             10.42      259.72      60000.0  31989.0     5.74   \n",
       "129142              16.14      528.40      32000.0  32385.0    21.34   \n",
       "753058              11.99      318.82      50000.0  31442.0    27.17   \n",
       "1305819              6.92      373.18      35000.0  31077.0    29.36   \n",
       "\n",
       "         annual_inc  installment  int_rate  \n",
       "227884      28763.0          0.0   32507.0  \n",
       "1524647     26875.0          0.0   32538.0  \n",
       "129142      24411.0          0.0   32507.0  \n",
       "753058      26936.0          0.0   32538.0  \n",
       "1305819     25445.0          0.0   32173.0  "
      ]
     },
     "execution_count": 32,
     "metadata": {},
     "output_type": "execute_result"
    }
   ],
   "source": [
    "X_train.head()"
   ]
  },
  {
   "cell_type": "markdown",
   "metadata": {},
   "source": [
    "All selected features are non-categorical from very beginning. Therefore, we can apply **scaling** on them."
   ]
  },
  {
   "cell_type": "markdown",
   "metadata": {},
   "source": [
    "## Feature scaling"
   ]
  },
  {
   "cell_type": "code",
   "execution_count": 33,
   "metadata": {},
   "outputs": [],
   "source": [
    "scaler = StandardScaler().fit(X_train)\n",
    "X_train[:] = scaler.transform(X_train)\n",
    "X_test[:] = scaler.transform(X_test)"
   ]
  },
  {
   "cell_type": "markdown",
   "metadata": {},
   "source": [
    "## Removing outliers from training data"
   ]
  },
  {
   "cell_type": "markdown",
   "metadata": {},
   "source": [
    "I decided to **remove outliers from training** data before training the model. As I examined, it would improve **generalization** and prevent **overfitting**. It is really important since we are dealing with **unbalanced** data. Moreover, the dataset contains values in different ranges (and I detected some outliers examining the charts).\n",
    "\n",
    "The ***IsolationForest*** isolates observations by **randomly selecting a feature and then randomly selecting a split value between the maximum and minimum values of the selected feature**. This solution is successfull because it doesn't assume that the dataset is sampled from any specific distribution.\n",
    "\n",
    "I also examined a different solution - ***EllipticEnvelope*** - which removes outliers in a Gaussian distributed dataset. However, our variables are not expecially normally distributed, therefore this algorithm was removing too many datapoints and the classification models became unable to learn the training data distribution.\n",
    "\n",
    "I estimated parameter **contamination** (proportion of detected outliers in the dataset) empirically."
   ]
  },
  {
   "cell_type": "code",
   "execution_count": 34,
   "metadata": {},
   "outputs": [
    {
     "name": "stderr",
     "output_type": "stream",
     "text": [
      "/home/adamrajfer/nethone/.venv/lib/python3.7/site-packages/sklearn/ensemble/iforest.py:415: DeprecationWarning: threshold_ attribute is deprecated in 0.20 and will be removed in 0.22.\n",
      "  \" be removed in 0.22.\", DeprecationWarning)\n"
     ]
    }
   ],
   "source": [
    "outliers = IsolationForest(contamination=5e-3, random_state=42).fit_predict(pd.concat([X_train, y_train], axis=1))\n",
    "X_train = X_train[outliers == 1]\n",
    "y_train = y_train[outliers == 1]"
   ]
  },
  {
   "cell_type": "markdown",
   "metadata": {},
   "source": [
    "It was the last preprocessing step. Now we can start **training the classification models**."
   ]
  },
  {
   "cell_type": "markdown",
   "metadata": {},
   "source": [
    "# Models"
   ]
  },
  {
   "cell_type": "markdown",
   "metadata": {},
   "source": [
    "Some basis functions for displaying metrics are implemented below."
   ]
  },
  {
   "cell_type": "code",
   "execution_count": 35,
   "metadata": {},
   "outputs": [],
   "source": [
    "def plot_metrics(clf, X, y):\n",
    "    y_ = clf.predict(X)\n",
    "    print('Accuracy:\\t{}\\nPrecision:\\t{}\\nRecall:\\t\\t{}\\nF1:\\t\\t{}'.format(\n",
    "        accuracy_score(y, y_), precision_score(y, y_), recall_score(y, y_), f1_score(y, y_)))\n",
    "\n",
    "def plot_metrics_train_test(clf, X_train, X_test, y_train, y_test):\n",
    "    print('Train set:\\n')\n",
    "    plot_metrics(clf, X_train, y_train)\n",
    "    print('\\n\\nTest set:\\n')\n",
    "    plot_metrics(clf, X_test, y_test)"
   ]
  },
  {
   "cell_type": "markdown",
   "metadata": {},
   "source": [
    "My baseline model is ***GaussianNB*** - Gaussian Naive Bayes."
   ]
  },
  {
   "cell_type": "markdown",
   "metadata": {},
   "source": [
    "## GaussianNB"
   ]
  },
  {
   "cell_type": "code",
   "execution_count": 36,
   "metadata": {},
   "outputs": [
    {
     "name": "stdout",
     "output_type": "stream",
     "text": [
      "Train set:\n",
      "\n",
      "Accuracy:\t0.9525596733668342\n",
      "Precision:\t1.0\n",
      "Recall:\t\t0.6086280606296153\n",
      "F1:\t\t0.7567045179995168\n",
      "\n",
      "\n",
      "Test set:\n",
      "\n",
      "Accuracy:\t0.9525625\n",
      "Precision:\t1.0\n",
      "Recall:\t\t0.6216350947158524\n",
      "F1:\t\t0.7666769136181986\n"
     ]
    }
   ],
   "source": [
    "nb = GaussianNB().fit(X_train, y_train)\n",
    "plot_metrics_train_test(nb, X_train, X_test, y_train, y_test)"
   ]
  },
  {
   "cell_type": "markdown",
   "metadata": {},
   "source": [
    "The scores are satisfactory. High presicion is good - we are not classifying negative values as positive. However, we could achieve better recall - our model could classify more positive values as positive. This is not an easy task since we are facing disproportion in number of labels (only 12,5% positive labels). Accuracy, in this  case, means nothing to us.\n",
    "\n",
    "This simple solution is really fast and computationaly inexpensive. However, the data needed to be properly prepared by removing outliers, scaling the data and dropping redundant features.\n",
    "\n",
    "Unfortunetelly, Naive Bayes algorithm won't be able to classify correctly data varying much from training data distribution.\n",
    "\n",
    "My next approach is ***LogisticRegression***."
   ]
  },
  {
   "cell_type": "markdown",
   "metadata": {},
   "source": [
    "## LogisticRegression"
   ]
  },
  {
   "cell_type": "code",
   "execution_count": 37,
   "metadata": {},
   "outputs": [
    {
     "name": "stdout",
     "output_type": "stream",
     "text": [
      "Train set:\n",
      "\n",
      "Accuracy:\t0.9526695979899498\n",
      "Precision:\t1.0\n",
      "Recall:\t\t0.6095349138489442\n",
      "F1:\t\t0.7574050225370252\n",
      "\n",
      "\n",
      "Test set:\n",
      "\n",
      "Accuracy:\t0.952625\n",
      "Precision:\t1.0\n",
      "Recall:\t\t0.6221335992023929\n",
      "F1:\t\t0.7670559311616473\n"
     ]
    }
   ],
   "source": [
    "logit = LogisticRegression(penalty='none', solver='lbfgs',random_state=42).fit(X_train, y_train)\n",
    "plot_metrics_train_test(logit, X_train, X_test, y_train, y_test)"
   ]
  },
  {
   "cell_type": "markdown",
   "metadata": {},
   "source": [
    "Since we removed outliers, scaled the data and dropped redundant features, no regularization is needed. Imputing missing values was also some kind of regularization.\n",
    "\n",
    "Our recall is slightly better (~0.001) than achieved on GaussianNB. Since training metrics are slightly worse than testing metrics, we know that the model isn't overfitting. However, *LogisticRegression* assumes linearity between features and labels, which may not always be observable."
   ]
  },
  {
   "cell_type": "markdown",
   "metadata": {},
   "source": [
    "Let's now try more powerful model - ***RandomForestClassifier***."
   ]
  },
  {
   "cell_type": "markdown",
   "metadata": {},
   "source": [
    "## RandomForestClassifier"
   ]
  },
  {
   "cell_type": "code",
   "execution_count": 38,
   "metadata": {},
   "outputs": [
    {
     "name": "stdout",
     "output_type": "stream",
     "text": [
      "Train set:\n",
      "\n",
      "Accuracy:\t0.9623586683417086\n",
      "Precision:\t0.9947936035701004\n",
      "Recall:\t\t0.6930949604871097\n",
      "F1:\t\t0.816980988012522\n",
      "\n",
      "\n",
      "Test set:\n",
      "\n",
      "Accuracy:\t0.9524375\n",
      "Precision:\t0.9567131327953045\n",
      "Recall:\t\t0.650049850448654\n",
      "F1:\t\t0.7741169486494508\n"
     ]
    }
   ],
   "source": [
    "rf = RandomForestClassifier(max_features=8, max_leaf_nodes=300,random_state=42).fit(X_train, y_train)\n",
    "plot_metrics_train_test(rf, X_train, X_test, y_train, y_test)"
   ]
  },
  {
   "cell_type": "markdown",
   "metadata": {},
   "source": [
    "This is the best achieved score. The model is classifying some negative points as positive, however, it is classifying more positive points correctly than *GaussianNB* or *LogisticRegression*.\n",
    "\n",
    "Since feature selection was applied before, we could increase parameter ***max_features*** (the number of features to consider when looking for the best split). It helps the model to search for more regions in the training data distribution. On the other hand, setting parameter ***max_leaf_nodes*** (maximum number of nodes on each level of the tree) to smaller value (300) reduced overfitting.\n",
    "\n",
    "**To sum up, I would use RandomForestClassifier because it enables searching for many regions in the training data distribution and provide many regularization techniques. This model is more computationaly expensive than LogisticRegression and GaussianNB, however, for unbalanced data with more complex distributions, it brings better results.**"
   ]
  },
  {
   "cell_type": "markdown",
   "metadata": {},
   "source": [
    "# Further steps"
   ]
  },
  {
   "cell_type": "markdown",
   "metadata": {},
   "source": [
    "If I was given more time, I would approach this problem in this way:\n",
    "* I would try another encoding techniques for categorical variables and revisit feature selection process in order to represent and store the data in more reasonable way (for example variables correlation analysis).\n",
    "* I would train another models or ensembles of models and validate them using k-fold validation.\n",
    "* I would plot ROC curves and precision-recall curves.\n",
    "* I would try undersampling approach while training in order to deal with unbalanced binary classification problem.\n",
    "* If given more data and computing power, I would remove some preprocessing steps (like removing outliers from training data) and instead of it apply some regularization techniques like L1, L2 or adding random noise to the training data.\n",
    "* I would try more efficient hyperparameter tuning (like grid-search).\n",
    "* I would train a neural network."
   ]
  }
 ],
 "metadata": {
  "kernelspec": {
   "display_name": "Python 3",
   "language": "python",
   "name": "python3"
  },
  "language_info": {
   "codemirror_mode": {
    "name": "ipython",
    "version": 3
   },
   "file_extension": ".py",
   "mimetype": "text/x-python",
   "name": "python",
   "nbconvert_exporter": "python",
   "pygments_lexer": "ipython3",
   "version": "3.7.4"
  }
 },
 "nbformat": 4,
 "nbformat_minor": 2
}
